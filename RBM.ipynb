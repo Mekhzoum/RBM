{
 "cells": [
  {
   "cell_type": "markdown",
   "metadata": {
    "colab_type": "text",
    "id": "H88k8RcFzvOA"
   },
   "source": [
    "<h1><center>Restricted Boltzmann Machines for Collaborative Filtering</center></h1>"
   ]
  },
  {
   "cell_type": "markdown",
   "metadata": {},
   "source": [
    "##  Pre-processing phase"
   ]
  },
  {
   "cell_type": "code",
   "execution_count": 1,
   "metadata": {
    "colab": {},
    "colab_type": "code",
    "id": "PE5J1BJDzvOM"
   },
   "outputs": [],
   "source": [
    " \n",
    "import numpy as np  \n",
    "import pandas as pd \n",
    "import torch \n",
    "import matplotlib.pyplot as plt\n"
   ]
  },
  {
   "cell_type": "markdown",
   "metadata": {},
   "source": [
    "### 1 Dataset"
   ]
  },
  {
   "cell_type": "markdown",
   "metadata": {},
   "source": [
    "We are using the MovieLens 1M dataset. This set contains 1 million notes from approximately 3,952 films rated by 6,040 users.\n",
    "The model will be trained on this dataset and learn to make predictions to give a random user a set of specified movies. The dataset requires preprocessing steps."
   ]
  },
  {
   "cell_type": "markdown",
   "metadata": {},
   "source": [
    "#### 1-1 Movies.dat"
   ]
  },
  {
   "cell_type": "markdown",
   "metadata": {},
   "source": [
    "Movie information is in the file \"movies.dat\" and is in the following\n",
    "format:\n",
    "\n",
    "MovieID::Title::Genres\n",
    "\n",
    "- Titles are identical to titles provided by the IMDB (including\n",
    "year of release)\n",
    "- Genres are pipe-separated and are selected from the following genres:\n",
    "\n",
    "\t* Action\n",
    "\t* Adventure\n",
    "\t* Animation\n",
    "\t* Children's\n",
    "\t* Comedy\n",
    "\t* Crime\n",
    "\t* Documentary\n",
    "\t* Drama\n",
    "\t* Fantasy\n",
    "\t* Film-Noir\n",
    "\t* Horror\n",
    "\t* Musical\n",
    "\t* Mystery\n",
    "\t* Romance\n",
    "\t* Sci-Fi\n",
    "\t* Thriller\n",
    "\t* War\n",
    "\t* Western\n",
    "\n",
    "- Some MovieIDs do not correspond to a movie due to accidental duplicate\n",
    "entries and/or test entries\n",
    "- Movies are mostly entered by hand, so errors and inconsistencies may exist"
   ]
  },
  {
   "cell_type": "code",
   "execution_count": 2,
   "metadata": {
    "colab": {
     "base_uri": "https://localhost:8080/",
     "height": 202
    },
    "colab_type": "code",
    "id": "onKScIx-zvOg",
    "outputId": "e152229a-ee5d-4df1-c753-282aac68b939"
   },
   "outputs": [
    {
     "data": {
      "text/html": [
       "<div>\n",
       "<style scoped>\n",
       "    .dataframe tbody tr th:only-of-type {\n",
       "        vertical-align: middle;\n",
       "    }\n",
       "\n",
       "    .dataframe tbody tr th {\n",
       "        vertical-align: top;\n",
       "    }\n",
       "\n",
       "    .dataframe thead th {\n",
       "        text-align: right;\n",
       "    }\n",
       "</style>\n",
       "<table border=\"1\" class=\"dataframe\">\n",
       "  <thead>\n",
       "    <tr style=\"text-align: right;\">\n",
       "      <th></th>\n",
       "      <th>MovieID</th>\n",
       "      <th>Title</th>\n",
       "      <th>Genres</th>\n",
       "      <th>List Index</th>\n",
       "    </tr>\n",
       "  </thead>\n",
       "  <tbody>\n",
       "    <tr>\n",
       "      <th>0</th>\n",
       "      <td>1</td>\n",
       "      <td>Toy Story (1995)</td>\n",
       "      <td>Animation|Children's|Comedy</td>\n",
       "      <td>0</td>\n",
       "    </tr>\n",
       "    <tr>\n",
       "      <th>1</th>\n",
       "      <td>2</td>\n",
       "      <td>Jumanji (1995)</td>\n",
       "      <td>Adventure|Children's|Fantasy</td>\n",
       "      <td>1</td>\n",
       "    </tr>\n",
       "    <tr>\n",
       "      <th>2</th>\n",
       "      <td>3</td>\n",
       "      <td>Grumpier Old Men (1995)</td>\n",
       "      <td>Comedy|Romance</td>\n",
       "      <td>2</td>\n",
       "    </tr>\n",
       "    <tr>\n",
       "      <th>3</th>\n",
       "      <td>4</td>\n",
       "      <td>Waiting to Exhale (1995)</td>\n",
       "      <td>Comedy|Drama</td>\n",
       "      <td>3</td>\n",
       "    </tr>\n",
       "    <tr>\n",
       "      <th>4</th>\n",
       "      <td>5</td>\n",
       "      <td>Father of the Bride Part II (1995)</td>\n",
       "      <td>Comedy</td>\n",
       "      <td>4</td>\n",
       "    </tr>\n",
       "  </tbody>\n",
       "</table>\n",
       "</div>"
      ],
      "text/plain": [
       "   MovieID                               Title                        Genres  \\\n",
       "0        1                    Toy Story (1995)   Animation|Children's|Comedy   \n",
       "1        2                      Jumanji (1995)  Adventure|Children's|Fantasy   \n",
       "2        3             Grumpier Old Men (1995)                Comedy|Romance   \n",
       "3        4            Waiting to Exhale (1995)                  Comedy|Drama   \n",
       "4        5  Father of the Bride Part II (1995)                        Comedy   \n",
       "\n",
       "   List Index  \n",
       "0           0  \n",
       "1           1  \n",
       "2           2  \n",
       "3           3  \n",
       "4           4  "
      ]
     },
     "execution_count": 2,
     "metadata": {},
     "output_type": "execute_result"
    }
   ],
   "source": [
    "#Chargement du dataset qui contient les informations sur chaque film\n",
    "\n",
    "movies_df = pd.read_csv('movies.dat', sep='::', header=None, engine='python')\n",
    "movies_df.columns = ['MovieID', 'Title', 'Genres']\n",
    "\n",
    "#On ajoute une indexation pour chaque film vu que le nombre total est 3883 et id du dernier film est 3952\n",
    "movies_df['List Index'] = movies_df.index\n",
    "movies_df.head()\n",
    "\n"
   ]
  },
  {
   "cell_type": "markdown",
   "metadata": {},
   "source": [
    "#### 1-2 Rating.dat"
   ]
  },
  {
   "cell_type": "markdown",
   "metadata": {},
   "source": [
    "All ratings are contained in the file \"ratings.dat\" and are in the\n",
    "following format:\n",
    "\n",
    "UserID::MovieID::Rating::Timestamp\n",
    "\n",
    "- UserIDs range between 1 and 6040 \n",
    "- MovieIDs range between 1 and 3952\n",
    "- Ratings are made on a 5-star scale (whole-star ratings only)\n",
    "- Timestamp is represented in seconds since the epoch as returned by time(2)\n",
    "- Each user has at least 20 ratings"
   ]
  },
  {
   "cell_type": "code",
   "execution_count": 3,
   "metadata": {
    "colab": {
     "base_uri": "https://localhost:8080/",
     "height": 202
    },
    "colab_type": "code",
    "id": "cYZZeMZIzvO2",
    "outputId": "0dc1cbe8-4850-444e-8328-dd889f3fb46a"
   },
   "outputs": [
    {
     "data": {
      "text/html": [
       "<div>\n",
       "<style scoped>\n",
       "    .dataframe tbody tr th:only-of-type {\n",
       "        vertical-align: middle;\n",
       "    }\n",
       "\n",
       "    .dataframe tbody tr th {\n",
       "        vertical-align: top;\n",
       "    }\n",
       "\n",
       "    .dataframe thead th {\n",
       "        text-align: right;\n",
       "    }\n",
       "</style>\n",
       "<table border=\"1\" class=\"dataframe\">\n",
       "  <thead>\n",
       "    <tr style=\"text-align: right;\">\n",
       "      <th></th>\n",
       "      <th>UserID</th>\n",
       "      <th>MovieID</th>\n",
       "      <th>Rating</th>\n",
       "    </tr>\n",
       "  </thead>\n",
       "  <tbody>\n",
       "    <tr>\n",
       "      <th>0</th>\n",
       "      <td>1</td>\n",
       "      <td>1193</td>\n",
       "      <td>5</td>\n",
       "    </tr>\n",
       "    <tr>\n",
       "      <th>1</th>\n",
       "      <td>1</td>\n",
       "      <td>661</td>\n",
       "      <td>3</td>\n",
       "    </tr>\n",
       "    <tr>\n",
       "      <th>2</th>\n",
       "      <td>1</td>\n",
       "      <td>914</td>\n",
       "      <td>3</td>\n",
       "    </tr>\n",
       "    <tr>\n",
       "      <th>3</th>\n",
       "      <td>1</td>\n",
       "      <td>3408</td>\n",
       "      <td>4</td>\n",
       "    </tr>\n",
       "    <tr>\n",
       "      <th>4</th>\n",
       "      <td>1</td>\n",
       "      <td>2355</td>\n",
       "      <td>5</td>\n",
       "    </tr>\n",
       "  </tbody>\n",
       "</table>\n",
       "</div>"
      ],
      "text/plain": [
       "   UserID  MovieID  Rating\n",
       "0       1     1193       5\n",
       "1       1      661       3\n",
       "2       1      914       3\n",
       "3       1     3408       4\n",
       "4       1     2355       5"
      ]
     },
     "execution_count": 3,
     "metadata": {},
     "output_type": "execute_result"
    }
   ],
   "source": [
    "# Chargement du dataset qui contient les notes attribuer au films par utilisateur  \n",
    "\n",
    "ratings_df = pd.read_csv('ratings.dat', sep='::', header=None, engine='python')\n",
    "ratings_df.columns = ['UserID', 'MovieID', 'Rating', 'Timestamp']\n",
    "\n",
    "#Suppression des colonnes inutiles\n",
    "ratings_df = ratings_df.drop('Timestamp', axis=1)\n",
    "ratings_df.head()\n"
   ]
  },
  {
   "cell_type": "code",
   "execution_count": 80,
   "metadata": {
    "colab": {
     "base_uri": "https://localhost:8080/",
     "height": 415
    },
    "colab_type": "code",
    "id": "VOJjLfE9zvPG",
    "outputId": "87837040-fc49-47fd-edcd-412a79e2a81f"
   },
   "outputs": [
    {
     "data": {
      "text/html": [
       "<div>\n",
       "<style scoped>\n",
       "    .dataframe tbody tr th:only-of-type {\n",
       "        vertical-align: middle;\n",
       "    }\n",
       "\n",
       "    .dataframe tbody tr th {\n",
       "        vertical-align: top;\n",
       "    }\n",
       "\n",
       "    .dataframe thead th {\n",
       "        text-align: right;\n",
       "    }\n",
       "</style>\n",
       "<table border=\"1\" class=\"dataframe\">\n",
       "  <thead>\n",
       "    <tr style=\"text-align: right;\">\n",
       "      <th></th>\n",
       "      <th>MovieID</th>\n",
       "      <th>Title</th>\n",
       "      <th>Genres</th>\n",
       "      <th>List Index</th>\n",
       "      <th>UserID</th>\n",
       "      <th>Rating</th>\n",
       "    </tr>\n",
       "  </thead>\n",
       "  <tbody>\n",
       "    <tr>\n",
       "      <th>0</th>\n",
       "      <td>1</td>\n",
       "      <td>Toy Story (1995)</td>\n",
       "      <td>Animation|Children's|Comedy</td>\n",
       "      <td>0</td>\n",
       "      <td>1</td>\n",
       "      <td>5</td>\n",
       "    </tr>\n",
       "    <tr>\n",
       "      <th>1</th>\n",
       "      <td>1</td>\n",
       "      <td>Toy Story (1995)</td>\n",
       "      <td>Animation|Children's|Comedy</td>\n",
       "      <td>0</td>\n",
       "      <td>6</td>\n",
       "      <td>4</td>\n",
       "    </tr>\n",
       "    <tr>\n",
       "      <th>2</th>\n",
       "      <td>1</td>\n",
       "      <td>Toy Story (1995)</td>\n",
       "      <td>Animation|Children's|Comedy</td>\n",
       "      <td>0</td>\n",
       "      <td>8</td>\n",
       "      <td>4</td>\n",
       "    </tr>\n",
       "    <tr>\n",
       "      <th>3</th>\n",
       "      <td>1</td>\n",
       "      <td>Toy Story (1995)</td>\n",
       "      <td>Animation|Children's|Comedy</td>\n",
       "      <td>0</td>\n",
       "      <td>9</td>\n",
       "      <td>5</td>\n",
       "    </tr>\n",
       "    <tr>\n",
       "      <th>4</th>\n",
       "      <td>1</td>\n",
       "      <td>Toy Story (1995)</td>\n",
       "      <td>Animation|Children's|Comedy</td>\n",
       "      <td>0</td>\n",
       "      <td>10</td>\n",
       "      <td>5</td>\n",
       "    </tr>\n",
       "  </tbody>\n",
       "</table>\n",
       "</div>"
      ],
      "text/plain": [
       "   MovieID             Title                       Genres  List Index  UserID  \\\n",
       "0        1  Toy Story (1995)  Animation|Children's|Comedy           0       1   \n",
       "1        1  Toy Story (1995)  Animation|Children's|Comedy           0       6   \n",
       "2        1  Toy Story (1995)  Animation|Children's|Comedy           0       8   \n",
       "3        1  Toy Story (1995)  Animation|Children's|Comedy           0       9   \n",
       "4        1  Toy Story (1995)  Animation|Children's|Comedy           0      10   \n",
       "\n",
       "   Rating  \n",
       "0       5  \n",
       "1       4  \n",
       "2       4  \n",
       "3       5  \n",
       "4       5  "
      ]
     },
     "execution_count": 80,
     "metadata": {},
     "output_type": "execute_result"
    }
   ],
   "source": [
    "# on peut modifier le nombre des utilisateurs et le nombre des films \n",
    "nb_user = 6040\n",
    "nb_movie = 3952\n",
    "fusion  = movies_df.merge(ratings_df, on='MovieID')\n",
    "fusion = fusion[(fusion['List Index'] < nb_movie) & (fusion['UserID'] <= nb_user) ]\n",
    "\n",
    "fusion.head()"
   ]
  },
  {
   "cell_type": "markdown",
   "metadata": {
    "colab_type": "text",
    "id": "paJvFCVwzvPX"
   },
   "source": [
    "### 2 Dataset manipulation"
   ]
  },
  {
   "cell_type": "markdown",
   "metadata": {},
   "source": [
    "Restricted Boltzmann machine only accepts binary values, it is necessary to assign a value of 0 or 1 (to like, not to like), we suppose that not to like a film is equivalent to a rate of 1 or 2, and liking a film is equivalent to giving a rating of 3, 4 or 5. <br>\n",
    "But this binary notion makes us lose a lot of information. To improve the quality of the result we will do normalization of the ratings, divide each rating by 5. We consider in this case that if a user has not seen a film, a rating of 0 (0 does not mean that he has not liked the movie).\n"
   ]
  },
  {
   "cell_type": "code",
   "execution_count": 81,
   "metadata": {
    "colab": {},
    "colab_type": "code",
    "id": "1E3uGODIzvPf"
   },
   "outputs": [],
   "source": [
    "\n",
    "def transform(data):\n",
    "    dataT = []\n",
    "    for id_user in range(1,nb_user+1):\n",
    "        #Séléctioner les films de l'utilisateur courant\n",
    "        id_film = data['List Index'][ id_user == data['UserID'] ]\n",
    "        \n",
    "        #Séléctioner les notes attribuées par l'utilisateur courant\n",
    "        id_note = data['Rating'][ id_user == data['UserID'] ]\n",
    "        \n",
    "        #Initialiser tout à zero  si un utilisateur n’a pas vu un film une note 0\n",
    "        note = np.zeros(nb_movie)\n",
    "        \n",
    "        #Normaliser les notes \n",
    "        note[id_film -1] = id_note/5 \n",
    "        dataT.append(list(note))\n",
    "    return dataT\n",
    "\n",
    "# la liste base contient tout les utilisateurs en ligne et les films en colonne\n",
    "base = transform(fusion)\n"
   ]
  },
  {
   "cell_type": "markdown",
   "metadata": {},
   "source": [
    "### 3 Splitting data"
   ]
  },
  {
   "cell_type": "markdown",
   "metadata": {},
   "source": [
    "   ### Original\n",
    "|.     |Movie 1| Movie 2| Movie 3| Movie 5| Movie 6| Movie 7| Movie 8| Movie 9|\n",
    "|------|-------|--------|--------|--------|--------|--------|--------|--------|\n",
    "|User 1 | 0.8|0.2|0.8|0.4|0.0|0.0|0.6|0.2|0.0|1.0|1.0|\n",
    "|User 2 | 0.4|0.4|0.2|0.0|0.0|0.6|0.4|0.4|0.2|1.0|0.0|\n",
    "|User 3 | 0.0|0.2|0.2|0.2|0.0|1.0|1.0|0.6|0.8|0.4|0.0|\n",
    "\n",
    "   ### Train\n",
    "|.     |Movie 1| Movie 2| Movie 3| Movie 5| Movie 6| Movie 7| Movie 8| Movie 9|\n",
    "|------|-------|--------|--------|--------|--------|--------|--------|--------|\n",
    "|User 1 | 0.8|0.2|0.8|0.0|0.0|0.0|0.0|0.2|0.0|1.0|1.0|\n",
    "|User 2 | 0.4|0.4|0.2|0.0|0.0|0.6|0.4|0.0|0.0|0.0|0.0|\n",
    "|User 3 | 0.0|0.2|0.2|0.0|0.0|1.0|0.0|0.6|0.8|0.4|0.0|\n",
    "\n",
    "   ### Test\n",
    "|.     |Movie 1| Movie 2| Movie 3| Movie 5| Movie 6| Movie 7| Movie 8| Movie 9|\n",
    "|------|-------|--------|--------|--------|--------|--------|--------|--------|\n",
    "|User 1 | 0.0|0.0|0.0|0.4|0.0|0.0|0.6|0.0|0.0|0.0|0.0|\n",
    "|User 2 | 0.0|0.0|0.0|0.0|0.0|0.0|0.0|0.0|0.2|1.0|0.0|\n",
    "|User 3 | 0.0|0.0|0.0|0.2|0.0|0.0|1.0|0.0|0.0|0.0|0.0|\n"
   ]
  },
  {
   "cell_type": "code",
   "execution_count": 82,
   "metadata": {
    "colab": {},
    "colab_type": "code",
    "id": "AUQnFnjUDmHV"
   },
   "outputs": [],
   "source": [
    "l_nnzeros=[]\n",
    "# Pourcentage de donnée de test 20%\n",
    "per=.2 \n",
    "for i in range(len(base)):\n",
    "    c=0\n",
    "    for j in range(len(base[i])):\n",
    "        if base[i][j]!=0:\n",
    "            c=c+1   \n",
    "    l_nnzeros.append(c)\n",
    "    \n",
    "l_per= [int(i*per) for i in l_nnzeros]\n",
    "l_train=np.copy(base)\n",
    "for i in range(len(base)):\n",
    "    cpt=1\n",
    "    for j in range(len(base[i])):\n",
    "        if base[i][j]!=0 and cpt<=l_per[i]:\n",
    "            l_train[i][j]=0\n",
    "            cpt=cpt+1\n",
    "            \n",
    "l_test=base-l_train\n",
    "        \n",
    "l_train=list(l_train)\n",
    "l_test=list(l_test)\n",
    "\n",
    "## Transformation des données sous forme de tensor\n",
    "base = torch.FloatTensor(base) #original data\n",
    "base_train = torch.FloatTensor(l_train) #train data\n",
    "base_test = torch.FloatTensor(l_test) #test "
   ]
  },
  {
   "cell_type": "markdown",
   "metadata": {
    "colab_type": "text",
    "id": "WjGhwVkdzvQM"
   },
   "source": [
    "## Implementation phase"
   ]
  },
  {
   "cell_type": "markdown",
   "metadata": {
    "colab_type": "text",
    "id": "tOmN851DzvQR"
   },
   "source": [
    "\n",
    "   La méthode RBM prend un vecteur en entrée, et à l’intérieur de ce vecteur, elle prédira les notes attribuées aux films \n",
    "    qui n’ont pas été évalués à l’origine par l’utilisateur. Mais puisque ces notations prédictives sont calculées à partir\n",
    "    des notations existantes du vecteur d'entrée, les notations prédites dans la sortie doivent avoir le même format que \n",
    "    les notations existantes dans l'entrée. Sinon, les choses seraient incohérentes pour le RBM.\n",
    "    \n",
    "   The RBM method takes an input vector, and inside this vector, it will predict the ratings assigned to the films\n",
    "     that were not originally evaluated by the user. But since these predictive ratings are calculated from\n",
    "     existing notations of the input vector, the predicted notations in the output must have the same format as\n",
    "     the existing notations in the entry. Otherwise, things would be inconsistent with the RBM.\n",
    "    \n",
    "    "
   ]
  },
  {
   "cell_type": "markdown",
   "metadata": {
    "colab_type": "text",
    "id": "DVrgFJfazvQV"
   },
   "source": [
    "### 1- RBM class"
   ]
  },
  {
   "cell_type": "markdown",
   "metadata": {
    "colab_type": "text",
    "id": "CMMSO84tzvQZ"
   },
   "source": [
    "   To implement the RBM class, we'll be performing the three following steps:\n",
    "     - Initialization of the weights.\n",
    "     - Gibbs sampling\n",
    "     - Contrastive Divergence"
   ]
  },
  {
   "cell_type": "markdown",
   "metadata": {},
   "source": [
    "#### 1-1 __ init__()"
   ]
  },
  {
   "cell_type": "markdown",
   "metadata": {},
   "source": [
    "The constructor defines the initializations for the weights and the biases. The weights are distributed normally while the biases are all set to zero at the start."
   ]
  },
  {
   "cell_type": "markdown",
   "metadata": {},
   "source": [
    "#### 1-2 Echan_h()"
   ]
  },
  {
   "cell_type": "markdown",
   "metadata": {},
   "source": [
    "Depending on an input X, the following function obtains the probabilities that a hidden neuron is activated. This is obtained by multiplying the input V by the weighting matrix, by adding the bias corresponding to this layer and by applying a sigmoidal activation. The probabilities obtained are used for sampling from the Bernoulli distribution and using the Relu activation function as indicated in the function. This formula was obtained after several tests, and it has given us good results."
   ]
  },
  {
   "cell_type": "markdown",
   "metadata": {},
   "source": [
    "#### 1-3 Echan_v()"
   ]
  },
  {
   "cell_type": "markdown",
   "metadata": {},
   "source": [
    "Given the hidden states H, we can use them to obtain the probabilities that a visible neuron is active as well as the corresponding state values. This is obtained by multiplying H by the weighting matrix, adding the bias corresponding to this layer and applying a sigmoidal activation. The probabilities obtained are used to sample.\n",
    "The two methods Echan_h and Echan_v will allow us thereafter to do Gibbs Sampling."
   ]
  },
  {
   "cell_type": "markdown",
   "metadata": {},
   "source": [
    "#### 1-4 Train()"
   ]
  },
  {
   "cell_type": "markdown",
   "metadata": {},
   "source": [
    "The values obtained in the previous steps can be used to calculate the gradient matrix and the gradient vectors."
   ]
  },
  {
   "cell_type": "code",
   "execution_count": 102,
   "metadata": {
    "colab": {},
    "colab_type": "code",
    "id": "B9V52YE1zvQh"
   },
   "outputs": [],
   "source": [
    "\n",
    "class RBM():\n",
    "    def __init__ (self , nv , nh) : #nv: nombre de neurone visible nh: nombre de neurone caché\n",
    "        self.W  = torch.randn(nh,nv)*0.01 #learning rate\n",
    "        self.bv = torch.zeros(1 ,nh) # bias bv: visible  --> hidden\n",
    "        self.bh = torch.zeros(1 ,nv) # bias bh: hidden   --> visible\n",
    "        ''' Gibbs Sampling '''\n",
    "    # la couche visible ==> la couche cachée\n",
    "    def echan_h (self , x) :  \n",
    "        wx = torch.mm(x , self.W.t())\n",
    "        activ = wx + self.bv.expand_as(wx)\n",
    "        p_h_sachant_v = torch.sigmoid(activ)\n",
    "        sample = torch.relu((p_h_sachant_v - torch.bernoulli(p_h_sachant_v)))\n",
    "        return p_h_sachant_v , sample\n",
    "    \n",
    "    ## la couche cachée ==> la couche visible\n",
    "    def echan_v (self , y) :\n",
    "        wy = torch.mm(y , self.W)\n",
    "        activ = wy + self.bh.expand_as(wy)\n",
    "        sample=p_v_sachant_h = torch.sigmoid(activ)\n",
    "        #sample = torch.relu((p_h_sachant_v - torch.bernoulli(p_h_sachant_v)))\n",
    "        return p_v_sachant_h , sample\n",
    "                              \n",
    "    #v0 input vector qui contient la notation de tous les films par un utilisateur (Initial) \n",
    "    #vk visible noeud obtenu apres k échantillon\n",
    "    #ph0 vector de proba à la première itération, le nœud de tête est égal à 1 sachant la valeur de v0 \n",
    "        ''' Contrastive Divergence '''\n",
    "    def train (self , v0 , vk , ph0 , phk) :\n",
    "        self.W += (torch.mm(v0.t() , ph0) - torch.mm(vk.t() , phk)).t()\n",
    "        self.bh += torch.sum((v0 - vk),0) #Pour concerver la mm dim pour bv \n",
    "        self.bv += torch.sum((ph0 - phk),0)\n",
    "        return self.W, self.bh, self.bv\n"
   ]
  },
  {
   "cell_type": "markdown",
   "metadata": {
    "colab_type": "text",
    "id": "WDPuXxEqzvQs"
   },
   "source": [
    "### 2- Hyperparamétres"
   ]
  },
  {
   "cell_type": "markdown",
   "metadata": {
    "colab_type": "text",
    "id": "zUaSV_uEzvQw"
   },
   "source": [
    "   - nh: Number of neurons in the hidden layer.\n",
    "   - batch_size: Batch size.\n",
    "   - nb_epoch: Number of epochs"
   ]
  },
  {
   "cell_type": "code",
   "execution_count": 103,
   "metadata": {
    "colab": {
     "base_uri": "https://localhost:8080/",
     "height": 35
    },
    "colab_type": "code",
    "id": "9XJ_Fx1czvQ1",
    "outputId": "302fc67d-6f0d-4675-885b-86b8d725191b"
   },
   "outputs": [],
   "source": [
    "\n",
    "nv = len(base[0])# nombre de neurons dans la couche visible\n",
    "nh  = 100\n",
    "batch_size = 10\n",
    "nb_epoch = 50\n",
    "rbm = RBM(nv,nh)\n"
   ]
  },
  {
   "cell_type": "code",
   "execution_count": 69,
   "metadata": {},
   "outputs": [
    {
     "data": {
      "text/plain": [
       "3952"
      ]
     },
     "execution_count": 69,
     "metadata": {},
     "output_type": "execute_result"
    }
   ],
   "source": [
    " len(base[0])"
   ]
  },
  {
   "cell_type": "markdown",
   "metadata": {
    "colab_type": "text",
    "id": "iY-NDCHwzvRA"
   },
   "source": [
    "### 3- Training"
   ]
  },
  {
   "cell_type": "code",
   "execution_count": 104,
   "metadata": {
    "colab": {
     "base_uri": "https://localhost:8080/",
     "height": 366
    },
    "colab_type": "code",
    "id": "NtdHWrkgzvRF",
    "outputId": "0027415a-6ebd-461b-ee59-f798f5bee993"
   },
   "outputs": [],
   "source": [
    "errors = []\n",
    "for epoch in range(1, nb_epoch + 1):\n",
    "    loss = 0\n",
    "    cpt=0.\n",
    "    for id_user in range(0,nb_user - batch_size, batch_size):\n",
    "        v0 = base_train[id_user:id_user+batch_size]\n",
    "        vk = base_train[id_user:id_user+batch_size]\n",
    "        ph0,_ = rbm.echan_h(v0)        \n",
    "        ''' Gibbs Sampling '''\n",
    "        for k in range(10):\n",
    "            _,hk = rbm.echan_h(vk)\n",
    "            _,vk = rbm.echan_v(hk)\n",
    "            vk[v0<=0] = v0[v0<=0] #Pour s'assurer que l'apprentissage ne se termine pas sur les éléments non notés            \n",
    "        phk,_ = rbm.echan_h(vk)\n",
    "        ''' Contrastive Divergence '''\n",
    "        rbm.train(v0,vk,ph0,phk)\n",
    "        loss += torch.mean(torch.abs(v0[v0>0]-vk[v0>0]))\n",
    "        cpt=cpt+1.\n",
    "    errors.append(loss/cpt)\n"
   ]
  },
  {
   "cell_type": "code",
   "execution_count": 105,
   "metadata": {
    "scrolled": true
   },
   "outputs": [
    {
     "data": {
      "image/png": "[encoded data removed]",
      "text/plain": [
       "<Figure size 432x288 with 1 Axes>"
      ]
     },
     "metadata": {
      "needs_background": "light"
     },
     "output_type": "display_data"
    }
   ],
   "source": [
    "plt.plot(errors)\n",
    "plt.title(\"Training loss\")\n",
    "plt.ylabel('Error')\n",
    "plt.xlabel('Epoch')\n",
    "plt.show()"
   ]
  },
  {
   "cell_type": "markdown",
   "metadata": {},
   "source": [
    "### 4- Testing"
   ]
  },
  {
   "cell_type": "code",
   "execution_count": 12,
   "metadata": {},
   "outputs": [
    {
     "name": "stdout",
     "output_type": "stream",
     "text": [
      "test loss: tensor(0.2149)\n"
     ]
    }
   ],
   "source": [
    "# Testing the RBM\n",
    "test_loss = 0\n",
    "s = 0.\n",
    "for id_user in range(nb_user):\n",
    "    v = base_train[id_user:id_user+1]\n",
    "    vt = base_test[id_user:id_user+1]\n",
    "    if len(vt[vt>0]) > 0:\n",
    "        _,h = rbm.echan_h(v)\n",
    "        _,v = rbm.echan_v(h)\n",
    "        test_loss += torch.mean(torch.abs(vt[vt>0] - v[vt>0]))\n",
    "        s += 1.\n",
    "print('test loss: '+str(test_loss/s))"
   ]
  },
  {
   "cell_type": "markdown",
   "metadata": {
    "colab_type": "text",
    "id": "qqnY3oBMzvRh"
   },
   "source": [
    "## Recommendation phase"
   ]
  },
  {
   "cell_type": "markdown",
   "metadata": {},
   "source": [
    "Once the learning is over we can make recommendations. We choose a user X, we apply the echan_h method followed by the echan_v method only once. We get the recommendations by selecting the movies with the highest score."
   ]
  },
  {
   "cell_type": "code",
   "execution_count": 13,
   "metadata": {
    "colab": {
     "base_uri": "https://localhost:8080/",
     "height": 35
    },
    "colab_type": "code",
    "id": "0pefHA6_zvRp",
    "outputId": "01edb7ee-9bea-47d0-fa57-4565d994a3f7"
   },
   "outputs": [
    {
     "name": "stdout",
     "output_type": "stream",
     "text": [
      "loss recommandation : tensor(0.2407)\n"
     ]
    }
   ],
   "source": [
    "# utilisateur X \n",
    "id_userx = 92\n",
    "vik = base[[id_userx]]\n",
    "vit = base[[id_userx]]\n",
    "\n",
    "test_loss = 0\n",
    "if len(vit[vit>0]) > 0:\n",
    "    _,hik = rbm.echan_h(vik)\n",
    "    _,vik = rbm.echan_v(hik)\n",
    "    test_loss += torch.mean(torch.abs(vit[vit>0] - vik[vit>0]))\n",
    "#loss\n",
    "print('loss recommandation : '+str(test_loss))\n"
   ]
  },
  {
   "cell_type": "code",
   "execution_count": 14,
   "metadata": {
    "colab": {
     "base_uri": "https://localhost:8080/",
     "height": 326
    },
    "colab_type": "code",
    "id": "1RkZCsb9zvSE",
    "outputId": "b1a57151-ae39-4709-f25e-b3584cf82d6c"
   },
   "outputs": [
    {
     "data": {
      "text/html": [
       "<div>\n",
       "<style scoped>\n",
       "    .dataframe tbody tr th:only-of-type {\n",
       "        vertical-align: middle;\n",
       "    }\n",
       "\n",
       "    .dataframe tbody tr th {\n",
       "        vertical-align: top;\n",
       "    }\n",
       "\n",
       "    .dataframe thead th {\n",
       "        text-align: right;\n",
       "    }\n",
       "</style>\n",
       "<table border=\"1\" class=\"dataframe\">\n",
       "  <thead>\n",
       "    <tr style=\"text-align: right;\">\n",
       "      <th></th>\n",
       "      <th>MovieID</th>\n",
       "      <th>Title</th>\n",
       "      <th>Genres</th>\n",
       "      <th>List Index</th>\n",
       "      <th>Recommandation</th>\n",
       "    </tr>\n",
       "  </thead>\n",
       "  <tbody>\n",
       "    <tr>\n",
       "      <th>0</th>\n",
       "      <td>1</td>\n",
       "      <td>Toy Story (1995)</td>\n",
       "      <td>Animation|Children's|Comedy</td>\n",
       "      <td>0</td>\n",
       "      <td>0.5</td>\n",
       "    </tr>\n",
       "    <tr>\n",
       "      <th>1</th>\n",
       "      <td>2</td>\n",
       "      <td>Jumanji (1995)</td>\n",
       "      <td>Adventure|Children's|Fantasy</td>\n",
       "      <td>1</td>\n",
       "      <td>0.5</td>\n",
       "    </tr>\n",
       "    <tr>\n",
       "      <th>2</th>\n",
       "      <td>3</td>\n",
       "      <td>Grumpier Old Men (1995)</td>\n",
       "      <td>Comedy|Romance</td>\n",
       "      <td>2</td>\n",
       "      <td>0.5</td>\n",
       "    </tr>\n",
       "    <tr>\n",
       "      <th>3</th>\n",
       "      <td>4</td>\n",
       "      <td>Waiting to Exhale (1995)</td>\n",
       "      <td>Comedy|Drama</td>\n",
       "      <td>3</td>\n",
       "      <td>0.5</td>\n",
       "    </tr>\n",
       "    <tr>\n",
       "      <th>4</th>\n",
       "      <td>5</td>\n",
       "      <td>Father of the Bride Part II (1995)</td>\n",
       "      <td>Comedy</td>\n",
       "      <td>4</td>\n",
       "      <td>0.5</td>\n",
       "    </tr>\n",
       "  </tbody>\n",
       "</table>\n",
       "</div>"
      ],
      "text/plain": [
       "   MovieID                               Title                        Genres  \\\n",
       "0        1                    Toy Story (1995)   Animation|Children's|Comedy   \n",
       "1        2                      Jumanji (1995)  Adventure|Children's|Fantasy   \n",
       "2        3             Grumpier Old Men (1995)                Comedy|Romance   \n",
       "3        4            Waiting to Exhale (1995)                  Comedy|Drama   \n",
       "4        5  Father of the Bride Part II (1995)                        Comedy   \n",
       "\n",
       "   List Index  Recommandation  \n",
       "0           0             0.5  \n",
       "1           1             0.5  \n",
       "2           2             0.5  \n",
       "3           3             0.5  \n",
       "4           4             0.5  "
      ]
     },
     "execution_count": 14,
     "metadata": {},
     "output_type": "execute_result"
    }
   ],
   "source": [
    "\n",
    "rec = movies_df[movies_df['List Index'] < nb_movie]\n",
    "a = np.asarray(vik)\n",
    "a = a.transpose()\n",
    "score = pd.DataFrame({'Recommandation': a[:,0]})\n",
    "rec['Recommandation']=score\n",
    "rec.head()\n"
   ]
  },
  {
   "cell_type": "code",
   "execution_count": 15,
   "metadata": {
    "colab": {
     "base_uri": "https://localhost:8080/",
     "height": 415
    },
    "colab_type": "code",
    "id": "-k_yshDazvSZ",
    "outputId": "6840def1-9491-49ce-e879-72174380f242"
   },
   "outputs": [
    {
     "data": {
      "text/html": [
       "<div>\n",
       "<style scoped>\n",
       "    .dataframe tbody tr th:only-of-type {\n",
       "        vertical-align: middle;\n",
       "    }\n",
       "\n",
       "    .dataframe tbody tr th {\n",
       "        vertical-align: top;\n",
       "    }\n",
       "\n",
       "    .dataframe thead th {\n",
       "        text-align: right;\n",
       "    }\n",
       "</style>\n",
       "<table border=\"1\" class=\"dataframe\">\n",
       "  <thead>\n",
       "    <tr style=\"text-align: right;\">\n",
       "      <th></th>\n",
       "      <th>MovieID</th>\n",
       "      <th>Title</th>\n",
       "      <th>Genres</th>\n",
       "      <th>List Index</th>\n",
       "      <th>UserID</th>\n",
       "      <th>Rating</th>\n",
       "    </tr>\n",
       "  </thead>\n",
       "  <tbody>\n",
       "    <tr>\n",
       "      <th>29</th>\n",
       "      <td>1</td>\n",
       "      <td>Toy Story (1995)</td>\n",
       "      <td>Animation|Children's|Comedy</td>\n",
       "      <td>0</td>\n",
       "      <td>92</td>\n",
       "      <td>4</td>\n",
       "    </tr>\n",
       "    <tr>\n",
       "      <th>2090</th>\n",
       "      <td>2</td>\n",
       "      <td>Jumanji (1995)</td>\n",
       "      <td>Adventure|Children's|Fantasy</td>\n",
       "      <td>1</td>\n",
       "      <td>92</td>\n",
       "      <td>2</td>\n",
       "    </tr>\n",
       "    <tr>\n",
       "      <th>3733</th>\n",
       "      <td>6</td>\n",
       "      <td>Heat (1995)</td>\n",
       "      <td>Action|Crime|Thriller</td>\n",
       "      <td>5</td>\n",
       "      <td>92</td>\n",
       "      <td>1</td>\n",
       "    </tr>\n",
       "    <tr>\n",
       "      <th>5122</th>\n",
       "      <td>8</td>\n",
       "      <td>Tom and Huck (1995)</td>\n",
       "      <td>Adventure|Children's</td>\n",
       "      <td>7</td>\n",
       "      <td>92</td>\n",
       "      <td>3</td>\n",
       "    </tr>\n",
       "    <tr>\n",
       "      <th>8470</th>\n",
       "      <td>17</td>\n",
       "      <td>Sense and Sensibility (1995)</td>\n",
       "      <td>Drama|Romance</td>\n",
       "      <td>16</td>\n",
       "      <td>92</td>\n",
       "      <td>4</td>\n",
       "    </tr>\n",
       "  </tbody>\n",
       "</table>\n",
       "</div>"
      ],
      "text/plain": [
       "      MovieID                         Title                        Genres  \\\n",
       "29          1              Toy Story (1995)   Animation|Children's|Comedy   \n",
       "2090        2                Jumanji (1995)  Adventure|Children's|Fantasy   \n",
       "3733        6                   Heat (1995)         Action|Crime|Thriller   \n",
       "5122        8           Tom and Huck (1995)          Adventure|Children's   \n",
       "8470       17  Sense and Sensibility (1995)                 Drama|Romance   \n",
       "\n",
       "      List Index  UserID  Rating  \n",
       "29             0      92       4  \n",
       "2090           1      92       2  \n",
       "3733           5      92       1  \n",
       "5122           7      92       3  \n",
       "8470          16      92       4  "
      ]
     },
     "execution_count": 15,
     "metadata": {},
     "output_type": "execute_result"
    }
   ],
   "source": [
    "\n",
    "# Tous les films que l'utilisateur à déjà vu\n",
    "movies_ux = fusion[(fusion['UserID'] == id_userx)]\n",
    "movies_ux.head()\n"
   ]
  },
  {
   "cell_type": "code",
   "execution_count": 16,
   "metadata": {
    "colab": {},
    "colab_type": "code",
    "id": "uqFKN4TJzvS7"
   },
   "outputs": [],
   "source": [
    "movies_ux=movies_ux.drop('Title', axis=1).drop('Genres', axis=1).drop('UserID', axis=1)"
   ]
  },
  {
   "cell_type": "code",
   "execution_count": 24,
   "metadata": {
    "colab": {
     "base_uri": "https://localhost:8080/",
     "height": 697
    },
    "colab_type": "code",
    "id": "cCR4m9anzvTG",
    "outputId": "78b5d8cf-60fb-4e01-d967-ba135dfb3aef"
   },
   "outputs": [
    {
     "data": {
      "text/html": [
       "<div>\n",
       "<style scoped>\n",
       "    .dataframe tbody tr th:only-of-type {\n",
       "        vertical-align: middle;\n",
       "    }\n",
       "\n",
       "    .dataframe tbody tr th {\n",
       "        vertical-align: top;\n",
       "    }\n",
       "\n",
       "    .dataframe thead th {\n",
       "        text-align: right;\n",
       "    }\n",
       "</style>\n",
       "<table border=\"1\" class=\"dataframe\">\n",
       "  <thead>\n",
       "    <tr style=\"text-align: right;\">\n",
       "      <th></th>\n",
       "      <th>MovieID</th>\n",
       "      <th>Title</th>\n",
       "      <th>Genres</th>\n",
       "      <th>List Index_x</th>\n",
       "      <th>Recommandation</th>\n",
       "      <th>Rating</th>\n",
       "    </tr>\n",
       "  </thead>\n",
       "  <tbody>\n",
       "    <tr>\n",
       "      <th>1249</th>\n",
       "      <td>1269</td>\n",
       "      <td>Arsenic and Old Lace (1944)</td>\n",
       "      <td>Comedy|Mystery|Thriller</td>\n",
       "      <td>1249</td>\n",
       "      <td>1.000000</td>\n",
       "      <td>NaN</td>\n",
       "    </tr>\n",
       "    <tr>\n",
       "      <th>1191</th>\n",
       "      <td>1209</td>\n",
       "      <td>Once Upon a Time in the West (1969)</td>\n",
       "      <td>Western</td>\n",
       "      <td>1191</td>\n",
       "      <td>1.000000</td>\n",
       "      <td>NaN</td>\n",
       "    </tr>\n",
       "    <tr>\n",
       "      <th>3348</th>\n",
       "      <td>3417</td>\n",
       "      <td>Crimson Pirate, The (1952)</td>\n",
       "      <td>Adventure|Comedy|Sci-Fi</td>\n",
       "      <td>3348</td>\n",
       "      <td>1.000000</td>\n",
       "      <td>NaN</td>\n",
       "    </tr>\n",
       "    <tr>\n",
       "      <th>1179</th>\n",
       "      <td>1197</td>\n",
       "      <td>Princess Bride, The (1987)</td>\n",
       "      <td>Action|Adventure|Comedy|Romance</td>\n",
       "      <td>1179</td>\n",
       "      <td>1.000000</td>\n",
       "      <td>5.0</td>\n",
       "    </tr>\n",
       "    <tr>\n",
       "      <th>3401</th>\n",
       "      <td>3470</td>\n",
       "      <td>Dersu Uzala (1974)</td>\n",
       "      <td>Adventure|Drama</td>\n",
       "      <td>3401</td>\n",
       "      <td>1.000000</td>\n",
       "      <td>NaN</td>\n",
       "    </tr>\n",
       "    <tr>\n",
       "      <th>1219</th>\n",
       "      <td>1238</td>\n",
       "      <td>Local Hero (1983)</td>\n",
       "      <td>Comedy</td>\n",
       "      <td>1219</td>\n",
       "      <td>1.000000</td>\n",
       "      <td>NaN</td>\n",
       "    </tr>\n",
       "    <tr>\n",
       "      <th>1567</th>\n",
       "      <td>1609</td>\n",
       "      <td>187 (1997)</td>\n",
       "      <td>Drama</td>\n",
       "      <td>1567</td>\n",
       "      <td>1.000000</td>\n",
       "      <td>NaN</td>\n",
       "    </tr>\n",
       "    <tr>\n",
       "      <th>1244</th>\n",
       "      <td>1264</td>\n",
       "      <td>Diva (1981)</td>\n",
       "      <td>Action|Drama|Mystery|Romance|Thriller</td>\n",
       "      <td>1244</td>\n",
       "      <td>1.000000</td>\n",
       "      <td>NaN</td>\n",
       "    </tr>\n",
       "    <tr>\n",
       "      <th>1286</th>\n",
       "      <td>1306</td>\n",
       "      <td>Until the End of the World (Bis ans Ende der W...</td>\n",
       "      <td>Drama|Sci-Fi</td>\n",
       "      <td>1286</td>\n",
       "      <td>1.000000</td>\n",
       "      <td>NaN</td>\n",
       "    </tr>\n",
       "    <tr>\n",
       "      <th>2570</th>\n",
       "      <td>2639</td>\n",
       "      <td>Mommie Dearest (1981)</td>\n",
       "      <td>Drama</td>\n",
       "      <td>2570</td>\n",
       "      <td>0.999999</td>\n",
       "      <td>NaN</td>\n",
       "    </tr>\n",
       "    <tr>\n",
       "      <th>1891</th>\n",
       "      <td>1960</td>\n",
       "      <td>Last Emperor, The (1987)</td>\n",
       "      <td>Drama|War</td>\n",
       "      <td>1891</td>\n",
       "      <td>0.999991</td>\n",
       "      <td>NaN</td>\n",
       "    </tr>\n",
       "    <tr>\n",
       "      <th>1538</th>\n",
       "      <td>1579</td>\n",
       "      <td>For Ever Mozart (1996)</td>\n",
       "      <td>Drama</td>\n",
       "      <td>1538</td>\n",
       "      <td>0.999987</td>\n",
       "      <td>NaN</td>\n",
       "    </tr>\n",
       "    <tr>\n",
       "      <th>1352</th>\n",
       "      <td>1373</td>\n",
       "      <td>Star Trek V: The Final Frontier (1989)</td>\n",
       "      <td>Action|Adventure|Sci-Fi</td>\n",
       "      <td>1352</td>\n",
       "      <td>0.999978</td>\n",
       "      <td>NaN</td>\n",
       "    </tr>\n",
       "    <tr>\n",
       "      <th>3105</th>\n",
       "      <td>3174</td>\n",
       "      <td>Man on the Moon (1999)</td>\n",
       "      <td>Comedy|Drama</td>\n",
       "      <td>3105</td>\n",
       "      <td>0.999973</td>\n",
       "      <td>NaN</td>\n",
       "    </tr>\n",
       "    <tr>\n",
       "      <th>2636</th>\n",
       "      <td>2705</td>\n",
       "      <td>Late August, Early September (Fin août, début ...</td>\n",
       "      <td>Drama</td>\n",
       "      <td>2636</td>\n",
       "      <td>0.999961</td>\n",
       "      <td>NaN</td>\n",
       "    </tr>\n",
       "    <tr>\n",
       "      <th>1189</th>\n",
       "      <td>1207</td>\n",
       "      <td>To Kill a Mockingbird (1962)</td>\n",
       "      <td>Drama</td>\n",
       "      <td>1189</td>\n",
       "      <td>0.999956</td>\n",
       "      <td>NaN</td>\n",
       "    </tr>\n",
       "    <tr>\n",
       "      <th>3351</th>\n",
       "      <td>3420</td>\n",
       "      <td>...And Justice for All (1979)</td>\n",
       "      <td>Drama|Thriller</td>\n",
       "      <td>3351</td>\n",
       "      <td>0.999953</td>\n",
       "      <td>NaN</td>\n",
       "    </tr>\n",
       "    <tr>\n",
       "      <th>1177</th>\n",
       "      <td>1194</td>\n",
       "      <td>Up in Smoke (1978)</td>\n",
       "      <td>Comedy</td>\n",
       "      <td>1177</td>\n",
       "      <td>0.999946</td>\n",
       "      <td>NaN</td>\n",
       "    </tr>\n",
       "    <tr>\n",
       "      <th>911</th>\n",
       "      <td>923</td>\n",
       "      <td>Citizen Kane (1941)</td>\n",
       "      <td>Drama</td>\n",
       "      <td>911</td>\n",
       "      <td>0.999921</td>\n",
       "      <td>NaN</td>\n",
       "    </tr>\n",
       "    <tr>\n",
       "      <th>1958</th>\n",
       "      <td>2027</td>\n",
       "      <td>Mafia! (1998)</td>\n",
       "      <td>Comedy|Crime</td>\n",
       "      <td>1958</td>\n",
       "      <td>0.999892</td>\n",
       "      <td>NaN</td>\n",
       "    </tr>\n",
       "  </tbody>\n",
       "</table>\n",
       "</div>"
      ],
      "text/plain": [
       "      MovieID                                              Title  \\\n",
       "1249     1269                        Arsenic and Old Lace (1944)   \n",
       "1191     1209                Once Upon a Time in the West (1969)   \n",
       "3348     3417                         Crimson Pirate, The (1952)   \n",
       "1179     1197                         Princess Bride, The (1987)   \n",
       "3401     3470                                 Dersu Uzala (1974)   \n",
       "1219     1238                                  Local Hero (1983)   \n",
       "1567     1609                                         187 (1997)   \n",
       "1244     1264                                        Diva (1981)   \n",
       "1286     1306  Until the End of the World (Bis ans Ende der W...   \n",
       "2570     2639                              Mommie Dearest (1981)   \n",
       "1891     1960                           Last Emperor, The (1987)   \n",
       "1538     1579                             For Ever Mozart (1996)   \n",
       "1352     1373             Star Trek V: The Final Frontier (1989)   \n",
       "3105     3174                             Man on the Moon (1999)   \n",
       "2636     2705  Late August, Early September (Fin août, début ...   \n",
       "1189     1207                       To Kill a Mockingbird (1962)   \n",
       "3351     3420                      ...And Justice for All (1979)   \n",
       "1177     1194                                 Up in Smoke (1978)   \n",
       "911       923                                Citizen Kane (1941)   \n",
       "1958     2027                                      Mafia! (1998)   \n",
       "\n",
       "                                     Genres  List Index_x  Recommandation  \\\n",
       "1249                Comedy|Mystery|Thriller          1249        1.000000   \n",
       "1191                                Western          1191        1.000000   \n",
       "3348                Adventure|Comedy|Sci-Fi          3348        1.000000   \n",
       "1179        Action|Adventure|Comedy|Romance          1179        1.000000   \n",
       "3401                        Adventure|Drama          3401        1.000000   \n",
       "1219                                 Comedy          1219        1.000000   \n",
       "1567                                  Drama          1567        1.000000   \n",
       "1244  Action|Drama|Mystery|Romance|Thriller          1244        1.000000   \n",
       "1286                           Drama|Sci-Fi          1286        1.000000   \n",
       "2570                                  Drama          2570        0.999999   \n",
       "1891                              Drama|War          1891        0.999991   \n",
       "1538                                  Drama          1538        0.999987   \n",
       "1352                Action|Adventure|Sci-Fi          1352        0.999978   \n",
       "3105                           Comedy|Drama          3105        0.999973   \n",
       "2636                                  Drama          2636        0.999961   \n",
       "1189                                  Drama          1189        0.999956   \n",
       "3351                         Drama|Thriller          3351        0.999953   \n",
       "1177                                 Comedy          1177        0.999946   \n",
       "911                                   Drama           911        0.999921   \n",
       "1958                           Comedy|Crime          1958        0.999892   \n",
       "\n",
       "      Rating  \n",
       "1249     NaN  \n",
       "1191     NaN  \n",
       "3348     NaN  \n",
       "1179     5.0  \n",
       "3401     NaN  \n",
       "1219     NaN  \n",
       "1567     NaN  \n",
       "1244     NaN  \n",
       "1286     NaN  \n",
       "2570     NaN  \n",
       "1891     NaN  \n",
       "1538     NaN  \n",
       "1352     NaN  \n",
       "3105     NaN  \n",
       "2636     NaN  \n",
       "1189     NaN  \n",
       "3351     NaN  \n",
       "1177     NaN  \n",
       "911      NaN  \n",
       "1958     NaN  "
      ]
     },
     "execution_count": 24,
     "metadata": {},
     "output_type": "execute_result"
    }
   ],
   "source": [
    "\n",
    "# Fusioner\n",
    "movies_ux1 = pd.merge(rec,movies_ux , on='MovieID', how='outer')\n",
    "\n",
    " \n",
    "movies_ux1 = movies_ux1.drop('List Index_y', axis=1)\n",
    "\n",
    "# Choisir les 20 films les plus recommnandés \n",
    "movies_ux1.sort_values(['Recommandation'], ascending=False).head(20)\n",
    "\n"
   ]
  }
 ],
 "metadata": {
  "colab": {
   "name": "Machine_de_Boltzmann.ipynb",
   "provenance": [],
   "toc_visible": true
  },
  "kernelspec": {
   "display_name": "Python 3",
   "language": "python",
   "name": "python3"
  },
  "language_info": {
   "codemirror_mode": {
    "name": "ipython",
    "version": 3
   },
   "file_extension": ".py",
   "mimetype": "text/x-python",
   "name": "python",
   "nbconvert_exporter": "python",
   "pygments_lexer": "ipython3",
   "version": "3.7.3"
  }
 },
 "nbformat": 4,
 "nbformat_minor": 1
}
